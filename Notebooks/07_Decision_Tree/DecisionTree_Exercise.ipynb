{
  "nbformat": 4,
  "nbformat_minor": 0,
  "metadata": {
    "colab": {
      "name": "DecisionTreeWorksheetStudent",
      "provenance": [],
      "collapsed_sections": []
    },
    "kernelspec": {
      "display_name": "Python 3",
      "language": "python",
      "name": "python3"
    },
    "language_info": {
      "codemirror_mode": {
        "name": "ipython",
        "version": 3
      },
      "file_extension": ".py",
      "mimetype": "text/x-python",
      "name": "python",
      "nbconvert_exporter": "python",
      "pygments_lexer": "ipython3",
      "version": "3.7.3"
    }
  },
  "cells": [
    {
      "cell_type": "markdown",
      "metadata": {
        "colab_type": "text",
        "id": "-UimMCmGe19F"
      },
      "source": [
        "# Decision Tree Worksheet"
      ]
    },
    {
      "cell_type": "code",
      "metadata": {
        "colab_type": "code",
        "id": "kedW02LgKjVL",
        "colab": {}
      },
      "source": [
        "import numpy as np\n",
        "import pandas as pd\n",
        "from sklearn.model_selection import train_test_split\n",
        "from sklearn.tree import DecisionTreeClassifier\n",
        "from sklearn.metrics import accuracy_score\n",
        "from sklearn import tree\n",
        "from sklearn.ensemble import RandomForestClassifier\n",
        "from sklearn import metrics\n",
        "import graphviz\n",
        "import matplotlib.pyplot as plt"
      ],
      "execution_count": 2,
      "outputs": []
    },
    {
      "cell_type": "markdown",
      "metadata": {
        "colab_type": "text",
        "id": "rz35eT5-SMht"
      },
      "source": [
        "## Loading data\n",
        "\n",
        "Load Pima diabetes dataset and split data, with test size 20% and validaton 20%."
      ]
    },
    {
      "cell_type": "code",
      "metadata": {
        "colab_type": "code",
        "id": "Ydh9gmDkMGmu",
        "colab": {}
      },
      "source": [
        "url = \"https://raw.githubusercontent.com/jbrownlee/Datasets/master/pima-indians-diabetes.data.csv\"\n",
        "names = ['preg', 'plas', 'pres', 'skin', 'test', 'mass', 'pedi', 'age', 'class']\n",
        "\n",
        "data = pd.read_csv (url, names=names)\n",
        "\n",
        "invalid = ['plas', 'pres', 'skin', 'test', 'mass']\n",
        "\n",
        "for i in invalid:\n",
        "    data[i].replace(to_replace=0, value=np.nan, inplace=True)\n",
        "    \n",
        "data = data.dropna(axis=0).reset_index(drop=True)\n",
        "\n",
        "X_cols = ['preg', 'plas', 'pres', 'skin', 'test', 'mass', 'pedi', 'age']\n",
        "y_col = 'class'\n",
        "\n",
        "test_size = 0.2\n",
        "X_train, X_test, y_train, y_test = train_test_split(data[X_cols], data[y_col], test_size=test_size, random_state=0)\n",
        "X_train, X_val, y_train, y_val = train_test_split(X_train, y_train, test_size=test_size, random_state=0)"
      ],
      "execution_count": 3,
      "outputs": []
    },
    {
      "cell_type": "markdown",
      "metadata": {
        "colab_type": "text",
        "id": "KAFhsJIsSpMR"
      },
      "source": [
        "## Creating Model\n",
        "\n",
        "Make a model using sklearn's DecisionTreeClassifier, with a high max-depth and low minimum sample leafs."
      ]
    },
    {
      "cell_type": "code",
      "metadata": {
        "colab_type": "code",
        "id": "fHbA28aFS2DM",
        "colab": {}
      },
      "source": [
        "decision_tree = DecisionTreeClassifier(max_depth=100, min_samples_leaf=2).fit(X_train, y_train)"
      ],
      "execution_count": 13,
      "outputs": []
    },
    {
      "cell_type": "markdown",
      "metadata": {
        "colab_type": "text",
        "id": "4_8DZinWTJRa"
      },
      "source": [
        "Print accuracy of training and validation data."
      ]
    },
    {
      "cell_type": "code",
      "metadata": {
        "colab_type": "code",
        "id": "EgByCP_EhyB2",
        "colab": {
          "base_uri": "https://localhost:8080/",
          "height": 54
        },
        "outputId": "b5ffe578-8703-4f92-bffd-cf6959222a95"
      },
      "source": [
        "print (\"Testing accuracy is \" + str(metrics.accuracy_score (y_train, decision_tree.predict(X_train))))\n",
        "print (\"Validation accuracy is \" + str(metrics.accuracy_score (y_val, decision_tree.predict(X_val))))"
      ],
      "execution_count": 14,
      "outputs": [
        {
          "output_type": "stream",
          "text": [
            "Testing accuracy is 0.968\n",
            "Validation accuracy is 0.7936507936507936\n"
          ],
          "name": "stdout"
        }
      ]
    },
    {
      "cell_type": "markdown",
      "metadata": {
        "colab_type": "text",
        "id": "6HNa6fxbT6ak"
      },
      "source": [
        "Make a model with a low max-depth and higher minimum sample leafs."
      ]
    },
    {
      "cell_type": "code",
      "metadata": {
        "colab_type": "code",
        "id": "6Pbu-t_tiqnB",
        "colab": {}
      },
      "source": [
        "decision_tree2 = DecisionTreeClassifier(max_depth=3, min_samples_leaf=100).fit(X_train, y_train)"
      ],
      "execution_count": 15,
      "outputs": []
    },
    {
      "cell_type": "markdown",
      "metadata": {
        "id": "xwmEI4WoPGiy",
        "colab_type": "text"
      },
      "source": [
        "Print accuracy of training and validation data."
      ]
    },
    {
      "cell_type": "code",
      "metadata": {
        "id": "RWLKPegaPGi4",
        "colab_type": "code",
        "colab": {
          "base_uri": "https://localhost:8080/",
          "height": 54
        },
        "outputId": "65398c8d-a894-48e5-da80-56834cd8d456"
      },
      "source": [
        "print (\"Testing accuracy is \" + str(metrics.accuracy_score (y_train, decision_tree2.predict(X_train))))\n",
        "print (\"Validation accuracy is \" + str(metrics.accuracy_score (y_val, decision_tree2.predict(X_val))))"
      ],
      "execution_count": 16,
      "outputs": [
        {
          "output_type": "stream",
          "text": [
            "Testing accuracy is 0.74\n",
            "Validation accuracy is 0.7301587301587301\n"
          ],
          "name": "stdout"
        }
      ]
    },
    {
      "cell_type": "markdown",
      "metadata": {
        "id": "uIHmqs72PGjJ",
        "colab_type": "text"
      },
      "source": [
        "Explain the accuracy results below. \n",
        "\n",
        "(YOUR ANSWER HERE)"
      ]
    },
    {
      "cell_type": "markdown",
      "metadata": {
        "id": "rg-KVMDvPGjM",
        "colab_type": "text"
      },
      "source": [
        "## Metrics"
      ]
    },
    {
      "cell_type": "markdown",
      "metadata": {
        "id": "DTZ8cIOYPGjP",
        "colab_type": "text"
      },
      "source": [
        "Plot the ROC curve and print the AUC of the second model."
      ]
    },
    {
      "cell_type": "code",
      "metadata": {
        "id": "CeI6kYbsPGjS",
        "colab_type": "code",
        "colab": {}
      },
      "source": [
        "## YOUR CODE HERE"
      ],
      "execution_count": null,
      "outputs": []
    },
    {
      "cell_type": "markdown",
      "metadata": {
        "colab_type": "text",
        "id": "tKdqOMBKUvGZ"
      },
      "source": [
        "Use graphviz to visualize your 2nd tree."
      ]
    },
    {
      "cell_type": "code",
      "metadata": {
        "colab_type": "code",
        "id": "8o55bY_jl8gj",
        "colab": {}
      },
      "source": [
        "## YOUR CODE HERE"
      ],
      "execution_count": null,
      "outputs": []
    },
    {
      "cell_type": "markdown",
      "metadata": {
        "colab_type": "text",
        "id": "4iz4meWDVmo2"
      },
      "source": [
        "#### Use the graph above to answer the questions below"
      ]
    },
    {
      "cell_type": "markdown",
      "metadata": {
        "colab_type": "text",
        "id": "u1yM9h10WUEv"
      },
      "source": [
        "Question 1: What do you think X[n] represents in the nodes from the graph?\n",
        "\n",
        "(YOUR ANSWER HERE)"
      ]
    },
    {
      "cell_type": "markdown",
      "metadata": {
        "colab_type": "text",
        "id": "rA7B0oTaWUIe"
      },
      "source": [
        "Question 2: What is the root feature? Does it make sense as the root feature?\n",
        "\n",
        "(YOUR ANSWER HERE)"
      ]
    },
    {
      "cell_type": "markdown",
      "metadata": {
        "colab_type": "text",
        "id": "1t559pS3ZHES"
      },
      "source": [
        "Question 3: If you were to change the parameters to have a max_depth of 500 and min_samples_leaf of 1, what do you think the effect would be on the test accuracy? Training accuracy?\n",
        "\n",
        "(YOUR ANSWER HERE)"
      ]
    },
    {
      "cell_type": "markdown",
      "metadata": {
        "colab_type": "text",
        "id": "7dnlqId2bIcR"
      },
      "source": [
        "**Test your guesses, create a model with max_depth=500 and min_samples_leaf=1, and predict values for the training and validation data**"
      ]
    },
    {
      "cell_type": "code",
      "metadata": {
        "colab_type": "code",
        "id": "hnUQKX9vl9Gy",
        "colab": {}
      },
      "source": [
        "## YOUR CODE HERE"
      ],
      "execution_count": null,
      "outputs": []
    },
    {
      "cell_type": "markdown",
      "metadata": {
        "colab_type": "text",
        "id": "40Psyt65pD8p"
      },
      "source": [
        "# Random Forest"
      ]
    },
    {
      "cell_type": "markdown",
      "metadata": {
        "colab_type": "text",
        "id": "mjLu1MLIpGNF"
      },
      "source": [
        "## Creating Model\n",
        "\n",
        "Create a model with sklearn's RandomForestClassifier and predict values on your validation set."
      ]
    },
    {
      "cell_type": "code",
      "metadata": {
        "colab_type": "code",
        "id": "TYwbpWxUfDIY",
        "colab": {}
      },
      "source": [
        "## YOUR CODE HERE"
      ],
      "execution_count": null,
      "outputs": []
    },
    {
      "cell_type": "markdown",
      "metadata": {
        "colab_type": "text",
        "id": "6Ys_J3O4pd0u"
      },
      "source": [
        "Print accuracy of training and validation data."
      ]
    },
    {
      "cell_type": "code",
      "metadata": {
        "colab_type": "code",
        "id": "aQdfjEWdfDOH",
        "colab": {}
      },
      "source": [
        "## YOUR CODE HERE"
      ],
      "execution_count": null,
      "outputs": []
    },
    {
      "cell_type": "markdown",
      "metadata": {
        "id": "dV_pQmF8PGl6",
        "colab_type": "text"
      },
      "source": [
        "How did the accuracy compare to the decision tree's accuracy?\n",
        "\n",
        "(YOUR ANSWER HERE)"
      ]
    },
    {
      "cell_type": "markdown",
      "metadata": {
        "colab_type": "text",
        "id": "jGlSHxuUqAnX"
      },
      "source": [
        "Print the 3 most important features (hint: sklearn has an attribute to help you find these)"
      ]
    },
    {
      "cell_type": "code",
      "metadata": {
        "colab_type": "code",
        "id": "5rVekWn0qw3r",
        "colab": {}
      },
      "source": [
        "## YOUR CODE HERE"
      ],
      "execution_count": null,
      "outputs": []
    },
    {
      "cell_type": "markdown",
      "metadata": {
        "colab_type": "text",
        "id": "lynu8pLDtd0S"
      },
      "source": [
        "Find the accuracy for random forests with 1 to 100 trees, counting by 5. Print and then plot these accuracies."
      ]
    },
    {
      "cell_type": "code",
      "metadata": {
        "colab_type": "code",
        "id": "e2hG7npcuM7f",
        "colab": {}
      },
      "source": [
        "## YOUR CODE HERE"
      ],
      "execution_count": null,
      "outputs": []
    },
    {
      "cell_type": "markdown",
      "metadata": {
        "id": "0bB_Hx60PGmz",
        "colab_type": "text"
      },
      "source": [
        "Plot the roc_curve using predict_proba a function for our random forest model, and metrics.roc_curve\n",
        "\n",
        "It might help to google these functions and look at sklearn's documentation."
      ]
    },
    {
      "cell_type": "code",
      "metadata": {
        "id": "S8OrQ9sjPGm1",
        "colab_type": "code",
        "colab": {}
      },
      "source": [
        "## YOUR CODE HERE"
      ],
      "execution_count": null,
      "outputs": []
    }
  ]
}