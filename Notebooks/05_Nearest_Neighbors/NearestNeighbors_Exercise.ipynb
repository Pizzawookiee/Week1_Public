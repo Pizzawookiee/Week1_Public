{
  "nbformat": 4,
  "nbformat_minor": 0,
  "metadata": {
    "colab": {
      "name": "kNN-Problems.ipynb",
      "provenance": [],
      "collapsed_sections": []
    },
    "kernelspec": {
      "display_name": "Python 3",
      "language": "python",
      "name": "python3"
    },
    "language_info": {
      "codemirror_mode": {
        "name": "ipython",
        "version": 3
      },
      "file_extension": ".py",
      "mimetype": "text/x-python",
      "name": "python",
      "nbconvert_exporter": "python",
      "pygments_lexer": "ipython3",
      "version": "3.7.3"
    }
  },
  "cells": [
    {
      "cell_type": "markdown",
      "metadata": {
        "colab_type": "text",
        "id": "3hHvV20eD58o"
      },
      "source": [
        "# Nearest Neighbors Problem Set"
      ]
    },
    {
      "cell_type": "code",
      "metadata": {
        "colab_type": "code",
        "id": "z1h_AAj_D4kX",
        "colab": {}
      },
      "source": [
        "# -- imports --\n",
        "import numpy as np\n",
        "import pandas as po\n",
        "import matplotlib.pyplot as plt\n",
        "\n",
        "# -- kNN --\n",
        "from sklearn.model_selection import train_test_split\n",
        "from sklearn.neighbors import KNeighborsClassifier\n",
        "from sklearn.metrics import accuracy_score"
      ],
      "execution_count": 88,
      "outputs": []
    },
    {
      "cell_type": "markdown",
      "metadata": {
        "id": "87tmgzNMb9tV",
        "colab_type": "text"
      },
      "source": [
        "## Problem 1\n",
        "\n",
        "Consider the following simple data-set:\n",
        "\n",
        "<img src=\"https://github.com/BeaverWorksMedlytics2020/Data_Public/raw/master/Images/Week1/knn_notebook_example_table.png\" alt=\"Example Table\" width=\"600\">\n",
        "\n",
        "Now consider the Sample:\n",
        "    $$X= 4, Y = 4, Z = 2$$"
      ]
    },
    {
      "cell_type": "markdown",
      "metadata": {
        "colab_type": "text",
        "id": "gqjait37Qws0"
      },
      "source": [
        "Using kNN, what is the class for this sample for $k = 1$ and $k = 3?$ Use the Eucledian metric.\n",
        "\n",
        "at k=1, sample class is 1\\\n",
        "at k=3, sample class is 2"
      ]
    },
    {
      "cell_type": "code",
      "metadata": {
        "id": "u7ZKNXF8E4Cr",
        "colab_type": "code",
        "colab": {
          "base_uri": "https://localhost:8080/",
          "height": 109
        },
        "outputId": "df3bc15c-a093-4a4d-928e-0d796c3bed39"
      },
      "source": [
        "import numpy as np\n",
        "import pandas as pd\n",
        "import math\n",
        "sample_dict = {'Sample 1':{'X':5, 'Y':4, 'Z':3, 'class':1},\n",
        "               'Sample 2':{'X':1, 'Y':2, 'Z':2, 'class':2},\n",
        "               'Sample 3':{'X':1, 'Y':2, 'Z':3, 'class':2},\n",
        "               'Sample 4':{'X':4, 'Y':4, 'Z':2, 'class':None}}\n",
        "sample_data = pd.DataFrame.from_dict(sample_dict, orient='index')\n",
        "\n",
        "def euclidean_dist(datum1, datum2):\n",
        "    inner_val = 0.0\n",
        "    \n",
        "    for g in range(datum1.shape[0]):\n",
        "        inner_val += (datum1[g]- datum2[g]) ** 2\n",
        "    \n",
        "    distance = math.sqrt(inner_val)\n",
        "    return(distance)\n",
        "\n",
        "print('Euclidean Distances to Value 4')\n",
        "for k in range(len(sample_data)):\n",
        "    d = euclidean_dist(sample_data.iloc[3,:3].values, \n",
        "                       sample_data.iloc[k,:3].values)\n",
        "    print('  {}: \\t{:01.3f}'.format(k,d))"
      ],
      "execution_count": 89,
      "outputs": [
        {
          "output_type": "stream",
          "text": [
            "Euclidean Distances to Value 4\n",
            "  0: \t1.414\n",
            "  1: \t3.606\n",
            "  2: \t3.742\n",
            "  3: \t0.000\n"
          ],
          "name": "stdout"
        }
      ]
    },
    {
      "cell_type": "markdown",
      "metadata": {
        "colab_type": "text",
        "id": "MtE0uiKuTWsI"
      },
      "source": [
        "## Problem 2\n",
        "Earlier in the tutorial we were told that kNN depends on several factors, one of them being $k$. Consider the following datasets below, find the optimal value of $k$ that gives the highest accuracy. Visualize your data! Can you come up with some rule for getting a good idea of what $k$ is? \n",
        "\n",
        "HINT: look for a pattern/bound! Answer should be in terms of the size of the dataset $n$. "
      ]
    },
    {
      "cell_type": "code",
      "metadata": {
        "id": "aapncOgUo_5r",
        "colab_type": "code",
        "colab": {
          "base_uri": "https://localhost:8080/",
          "height": 55
        },
        "outputId": "97bd7a14-acfb-411e-fc56-8a1be403e36c"
      },
      "source": [
        "# Sovle this problem for each of these datasets\n",
        "from sklearn.datasets import load_iris \n",
        "from sklearn.datasets import load_breast_cancer\n",
        "from sklearn.datasets import load_wine\n",
        "import seaborn as sns\n",
        "\n",
        "# Load those datasets into some easily accessible variables\n",
        "#The datasets are already normalized, so that saves us some steps!\n",
        "iris = load_iris()                    #iris dataset: size = 150\n",
        "breast_cancer = load_breast_cancer()  #diabetes dataset: size = 569\n",
        "wine = load_wine()                    #wine dataset: size 178\n",
        "\n",
        "df_dict = {}\n",
        "a = [iris, breast_cancer, wine]\n",
        "for data in a:\n",
        "  df = pd.DataFrame(data.data,columns=data.feature_names)\n",
        "  df['target'] = pd.Series(data.target)\n",
        "  df_dict[\"df_{}\".format(a.index(data))] = df\n",
        "\n",
        "# This function will perfom KNN classification for a specified k\n",
        "def split_train_test_dataset(dataset, k, test_size=0.2):\n",
        "    \"\"\"Loads and performs KNN classification on the provided dataset\"\"\"\n",
        "    # Grab and split the dataset\n",
        "    X_train, X_val, y_train, y_val = train_test_split(\n",
        "        dataset.data, dataset.target, test_size=test_size, random_state=0)\n",
        "\n",
        "    # Build a KNN classifier, fit it and test its predictions\n",
        "    knn = KNeighborsClassifier(n_neighbors=k)\n",
        "    knn.fit(X_train, y_train)\n",
        "    print(\"Validation Accuracy is {:5.1%}\".format(\n",
        "        accuracy_score(y_val, knn.predict(X_val))))\n"
      ],
      "execution_count": 90,
      "outputs": [
        {
          "output_type": "stream",
          "text": [
            "/usr/local/lib/python3.6/dist-packages/ipykernel_launcher.py:18: DeprecationWarning: elementwise comparison failed; this will raise an error in the future.\n"
          ],
          "name": "stderr"
        }
      ]
    },
    {
      "cell_type": "code",
      "metadata": {
        "id": "lQk-b90Kgz-S",
        "colab_type": "code",
        "colab": {
          "base_uri": "https://localhost:8080/",
          "height": 35
        },
        "outputId": "9fff928f-53a1-4885-83ca-149e73fb513d"
      },
      "source": [
        "split_train_test_dataset(wine, 20, test_size=0.2)"
      ],
      "execution_count": 100,
      "outputs": [
        {
          "output_type": "stream",
          "text": [
            "Validation Accuracy is 77.8%\n"
          ],
          "name": "stdout"
        }
      ]
    },
    {
      "cell_type": "markdown",
      "metadata": {
        "id": "n1_EbFlqzjAT",
        "colab_type": "text"
      },
      "source": [
        "Write a single mathematical expression describing the relationship you found between $n$ (the size of the dataset) and $k$ (the number of datapoints used to classify each validation datum).\n",
        "\n",
        "k = sqrt(n)"
      ]
    },
    {
      "cell_type": "markdown",
      "metadata": {
        "colab_type": "text",
        "id": "-vDZy0F3eyeH"
      },
      "source": [
        "## Problem 3\n",
        "Now, we will **be writing our k-NNA**. Recall that we said a kNN is comprised of a predictions and using those predictions to classify the data. Here we will try to mimic sklearn's kNN methods. We will be using the Pima diabetes dataset. "
      ]
    },
    {
      "cell_type": "markdown",
      "metadata": {
        "id": "8YFfjG9G3lVO",
        "colab_type": "text"
      },
      "source": [
        "### Loading and splitting data"
      ]
    },
    {
      "cell_type": "code",
      "metadata": {
        "colab_type": "code",
        "id": "zbs8WICFgITd",
        "colab": {
          "base_uri": "https://localhost:8080/",
          "height": 206
        },
        "outputId": "3c50e9a7-598b-453f-85e9-c3fba9abefe6"
      },
      "source": [
        "# -- loading dataset -- #\n",
        "url = \"https://github.com/BeaverWorksMedlytics2020/Data_Public/raw/master/NotebookExampleData/Week1/diabetes.csv\"\n",
        "names = ['preg', 'plas', 'pres', 'skin', 'test', 'mass', 'pedi', 'age', 'class']\n",
        "data = po.read_csv(url, names=names)\n",
        "\n",
        "# -- dropping NaN rows -- #\n",
        "invalid = ['plas', 'pres', 'skin', 'test', 'mass']\n",
        "\n",
        "for i in invalid:\n",
        "    data[i].replace(to_replace=0, value=np.nan, inplace=True)\n",
        "    \n",
        "data = data.dropna(axis=0).reset_index(drop=True)\n",
        "\n",
        "data.head()"
      ],
      "execution_count": 105,
      "outputs": [
        {
          "output_type": "execute_result",
          "data": {
            "text/html": [
              "<div>\n",
              "<style scoped>\n",
              "    .dataframe tbody tr th:only-of-type {\n",
              "        vertical-align: middle;\n",
              "    }\n",
              "\n",
              "    .dataframe tbody tr th {\n",
              "        vertical-align: top;\n",
              "    }\n",
              "\n",
              "    .dataframe thead th {\n",
              "        text-align: right;\n",
              "    }\n",
              "</style>\n",
              "<table border=\"1\" class=\"dataframe\">\n",
              "  <thead>\n",
              "    <tr style=\"text-align: right;\">\n",
              "      <th></th>\n",
              "      <th>preg</th>\n",
              "      <th>plas</th>\n",
              "      <th>pres</th>\n",
              "      <th>skin</th>\n",
              "      <th>test</th>\n",
              "      <th>mass</th>\n",
              "      <th>pedi</th>\n",
              "      <th>age</th>\n",
              "      <th>class</th>\n",
              "    </tr>\n",
              "  </thead>\n",
              "  <tbody>\n",
              "    <tr>\n",
              "      <th>0</th>\n",
              "      <td>1</td>\n",
              "      <td>89.0</td>\n",
              "      <td>66.0</td>\n",
              "      <td>23.0</td>\n",
              "      <td>94.0</td>\n",
              "      <td>28.1</td>\n",
              "      <td>0.167</td>\n",
              "      <td>21</td>\n",
              "      <td>0</td>\n",
              "    </tr>\n",
              "    <tr>\n",
              "      <th>1</th>\n",
              "      <td>0</td>\n",
              "      <td>137.0</td>\n",
              "      <td>40.0</td>\n",
              "      <td>35.0</td>\n",
              "      <td>168.0</td>\n",
              "      <td>43.1</td>\n",
              "      <td>2.288</td>\n",
              "      <td>33</td>\n",
              "      <td>1</td>\n",
              "    </tr>\n",
              "    <tr>\n",
              "      <th>2</th>\n",
              "      <td>3</td>\n",
              "      <td>78.0</td>\n",
              "      <td>50.0</td>\n",
              "      <td>32.0</td>\n",
              "      <td>88.0</td>\n",
              "      <td>31.0</td>\n",
              "      <td>0.248</td>\n",
              "      <td>26</td>\n",
              "      <td>1</td>\n",
              "    </tr>\n",
              "    <tr>\n",
              "      <th>3</th>\n",
              "      <td>2</td>\n",
              "      <td>197.0</td>\n",
              "      <td>70.0</td>\n",
              "      <td>45.0</td>\n",
              "      <td>543.0</td>\n",
              "      <td>30.5</td>\n",
              "      <td>0.158</td>\n",
              "      <td>53</td>\n",
              "      <td>1</td>\n",
              "    </tr>\n",
              "    <tr>\n",
              "      <th>4</th>\n",
              "      <td>1</td>\n",
              "      <td>189.0</td>\n",
              "      <td>60.0</td>\n",
              "      <td>23.0</td>\n",
              "      <td>846.0</td>\n",
              "      <td>30.1</td>\n",
              "      <td>0.398</td>\n",
              "      <td>59</td>\n",
              "      <td>1</td>\n",
              "    </tr>\n",
              "  </tbody>\n",
              "</table>\n",
              "</div>"
            ],
            "text/plain": [
              "   preg   plas  pres  skin   test  mass   pedi  age  class\n",
              "0     1   89.0  66.0  23.0   94.0  28.1  0.167   21      0\n",
              "1     0  137.0  40.0  35.0  168.0  43.1  2.288   33      1\n",
              "2     3   78.0  50.0  32.0   88.0  31.0  0.248   26      1\n",
              "3     2  197.0  70.0  45.0  543.0  30.5  0.158   53      1\n",
              "4     1  189.0  60.0  23.0  846.0  30.1  0.398   59      1"
            ]
          },
          "metadata": {
            "tags": []
          },
          "execution_count": 105
        }
      ]
    },
    {
      "cell_type": "markdown",
      "metadata": {
        "id": "aSUwHL6-4P2F",
        "colab_type": "text"
      },
      "source": [
        "Now, let's clearly define which columns will act as explanatory variables, and which column will be the target value, and split the dataset between your training data and testing data. Let's try an 80-20 split and use sklearn's [train_test_split](http://scikit-learn.org/stable/modules/generated/sklearn.model_selection.train_test_split.html) method (set random_state = 0 so we get the same output each time)."
      ]
    },
    {
      "cell_type": "code",
      "metadata": {
        "colab_type": "code",
        "id": "9MXZjxRcgy78",
        "colab": {
          "base_uri": "https://localhost:8080/",
          "height": 72
        },
        "outputId": "a1fc3ce8-7a6a-4485-9d59-b6aaf1c6b52e"
      },
      "source": [
        "from sklearn.model_selection import train_test_split\n",
        "\n",
        "# columns we will use to make predictions with (features!) feel free to play around with these\n",
        "X_cols = ['preg', 'plas', 'pres', 'skin', 'test', 'mass', 'pedi', 'age']\n",
        "# column that we want to predict\n",
        "y_col = 'class'\n",
        "\n",
        "\n",
        "# split X and y into training and testing sets\n",
        "X_train, X_test, y_train, y_test = train_test_split(data[X_cols], data[y_col], test_size=0.2, random_state=0)\n",
        "\n",
        "# further split X and y of training into training and validation sets\n",
        "X_train, X_val, y_train, y_val = train_test_split(X_train, y_train, test_size=0.2, random_state=0)\n",
        "\n",
        "print('There are {} training samples with {} features and {} associated classification labels'.format(*X_train.shape, *y_train.shape))\n",
        "print('There are {} validation samples with {} features and {} associated classification labels'.format(*X_val.shape, *y_val.shape))\n",
        "print('There are {} test samples with {} features and {} associated classification labels'.format(*X_test.shape, *y_test.shape))"
      ],
      "execution_count": 102,
      "outputs": [
        {
          "output_type": "stream",
          "text": [
            "There are 250 training samples with 8 features and 250 associated classification labels\n",
            "There are 63 validation samples with 8 features and 63 associated classification labels\n",
            "There are 79 test samples with 8 features and 79 associated classification labels\n"
          ],
          "name": "stdout"
        }
      ]
    },
    {
      "cell_type": "markdown",
      "metadata": {
        "colab_type": "text",
        "id": "De_EJnYKgz_6"
      },
      "source": [
        "### Normalizing Data\n",
        "\n",
        "Let's not forget to normalize the data! We'll use sklearn's StandardScaler normalization like we did before to normalize the training **and** validation/data."
      ]
    },
    {
      "cell_type": "code",
      "metadata": {
        "colab_type": "code",
        "id": "6PD6-ibriBJO",
        "colab": {}
      },
      "source": [
        "from sklearn.preprocessing import StandardScaler\n",
        "\n",
        "scaler = StandardScaler()\n",
        "\n",
        "for i in list(X_train):\n",
        "    feature_data_train = X_train[i].values.reshape(-1, 1)\n",
        "    scaler.fit(feature_data_train)\n",
        "    X_train[i] = scaler.transform(feature_data_train)\n",
        "\n",
        "for j in list(X_test):\n",
        "    feature_data_test = X_test[j].values.reshape(-1, 1)\n",
        "    scaler.fit(feature_data_test)\n",
        "    X_test[j] = scaler.transform(feature_data_test)\n",
        "    \n",
        "for k in list(X_val):\n",
        "    feature_data_val = X_val[k].values.reshape(-1, 1)\n",
        "    scaler.fit(feature_data_val)\n",
        "    X_val[k] = scaler.transform(feature_data_val)"
      ],
      "execution_count": 103,
      "outputs": []
    },
    {
      "cell_type": "markdown",
      "metadata": {
        "colab_type": "text",
        "id": "hnv61aiiitxU"
      },
      "source": [
        "### Writing our kNN\n",
        "\n",
        "Now for the fun part! Fill in the 3 following methods, euclidean_dist(), predict(), and knn().\n",
        "\n",
        "The predict method that we'll make below needs to: \n",
        "1. Compute the euclidean distance between the “new” observation and all the data points in the training set. \n",
        "2. Assign the corresponding label to the observation\n",
        "3. Select the k nearest ones and perform a \"majority vote\""
      ]
    },
    {
      "cell_type": "code",
      "metadata": {
        "id": "xXkIw6zN3lVb",
        "colab_type": "code",
        "colab": {}
      },
      "source": [
        "# Euclidean distance function from tutorial\n",
        "def euclidean_dist(datum1, datum2):\n",
        "    inner_val = 0.0\n",
        "    \n",
        "    for g in range(datum1.shape[0]):\n",
        "        inner_val += (datum1[g]- datum2[g]) ** 2\n",
        "    \n",
        "    distance = np.sqrt(inner_val)\n",
        "    return(distance)"
      ],
      "execution_count": 104,
      "outputs": []
    },
    {
      "cell_type": "code",
      "metadata": {
        "colab_type": "code",
        "id": "FqJkm_ytjFgM",
        "colab": {}
      },
      "source": [
        "from collections import Counter\n",
        "\n",
        "def predict(x_training, y_training, x_test_sample, k):\n",
        "    \n",
        "    # create list for distances and targets\n",
        "    distances = []\n",
        "    targets = []\n",
        "    ## YOUR CODE HERE"
      ],
      "execution_count": null,
      "outputs": []
    },
    {
      "cell_type": "code",
      "metadata": {
        "id": "BguZLcRa3lVh",
        "colab_type": "code",
        "colab": {}
      },
      "source": [
        "from collections import OrderedDict\n",
        "from statistics import mode\n",
        "\n",
        "def knn(x_training, y_training, x_testing, k):\n",
        "  y_val = []\n",
        "  for i in range(len(x_testing)):\n",
        "    original_dict = {}\n",
        "    unordered = []\n",
        "    for l in range (len(x_training)):\n",
        "      a = euclidean_dist(x_testing.iloc[i, :].values, x_training.iloc [l, :].values)\n",
        "      original_dict[a] = y_training.iloc[l]\n",
        "      unordered.append(a)\n",
        "    ordered = sorted(unordered)\n",
        "    ordered_dict = OrderedDict((n, original_dict[n]) for n in ordered)\n",
        "    k_consensus = []\n",
        "    for i in range(0, k):\n",
        "      k_consensus.append(ordered_dict[ordered[i]])\n",
        "    y_val.append(mode(k_consensus))\n",
        "  return y_val\n",
        "\n",
        "\n",
        "\n",
        "\n",
        "    ## YOUR CODE HERE"
      ],
      "execution_count": 123,
      "outputs": []
    },
    {
      "cell_type": "markdown",
      "metadata": {
        "colab_type": "text",
        "id": "4uhQZPIpjdo9"
      },
      "source": [
        "When done, test your code by running the methods here!"
      ]
    },
    {
      "cell_type": "code",
      "metadata": {
        "colab_type": "code",
        "id": "AHRJXVr7jcao",
        "colab": {
          "base_uri": "https://localhost:8080/",
          "height": 54
        },
        "outputId": "b877efa5-8f28-4056-897a-4952f43a6f2b"
      },
      "source": [
        "from sklearn.metrics import accuracy_score\n",
        "import time\n",
        "\n",
        "start = time.time()\n",
        "predictions_slow = knn(X_train, y_train, X_val, k=5)\n",
        "\n",
        "print('Took {} seconds'.format(time.time() - start))\n",
        "print(\"Validation Accuracy is \", accuracy_score(y_val,predictions_slow)*100)"
      ],
      "execution_count": 125,
      "outputs": [
        {
          "output_type": "stream",
          "text": [
            "Took 4.9364988803863525 seconds\n",
            "Validation Accuracy is  80.95238095238095\n"
          ],
          "name": "stdout"
        }
      ]
    },
    {
      "cell_type": "markdown",
      "metadata": {
        "id": "2a51RcbJ3lVq",
        "colab_type": "text"
      },
      "source": [
        "Check sklearn's predictions on validation data from the tutorial notebook and make sure they match yours. Sklearn is faster, but you should get the same answers."
      ]
    }
  ]
}