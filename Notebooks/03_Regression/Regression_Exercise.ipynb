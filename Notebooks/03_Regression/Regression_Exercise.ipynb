{
  "nbformat": 4,
  "nbformat_minor": 0,
  "metadata": {
    "colab": {
      "name": "Regression_Exercise-1.ipynb",
      "provenance": []
    },
    "kernelspec": {
      "display_name": "Python 3",
      "language": "python",
      "name": "python3"
    },
    "language_info": {
      "codemirror_mode": {
        "name": "ipython",
        "version": 3
      },
      "file_extension": ".py",
      "mimetype": "text/x-python",
      "name": "python",
      "nbconvert_exporter": "python",
      "pygments_lexer": "ipython3",
      "version": "3.7.3"
    }
  },
  "cells": [
    {
      "cell_type": "markdown",
      "metadata": {
        "colab_type": "text",
        "id": "xTfQvqbXr9G1"
      },
      "source": [
        "# Regression Exercises"
      ]
    },
    {
      "cell_type": "markdown",
      "metadata": {
        "id": "W_63k_URqeWu",
        "colab_type": "text"
      },
      "source": [
        "## Linear"
      ]
    },
    {
      "cell_type": "code",
      "metadata": {
        "colab_type": "code",
        "id": "VohVqdqmr9G3",
        "colab": {}
      },
      "source": [
        "# Loading data\n",
        "import pandas as pd\n",
        "import numpy as np\n",
        "from matplotlib import pyplot as plt\n",
        "\n",
        "# Read data from Github\n",
        "data_url = \"https://raw.githubusercontent.com/BeaverWorksMedlytics2020/Data_Public/master/NotebookExampleData/Week1/ex1data2.txt\"\n",
        "data_array = np.genfromtxt(data_url, delimiter=',')\n",
        "\n",
        "# The columns in this data set are define as folows:\n",
        "\"\"\"\n",
        "    0 = floor area\n",
        "    1 = number of bedrooms\n",
        "    2 = sale price\n",
        "\"\"\"\n",
        "    \n",
        "# store the relevant columns in more descriptive variables\n",
        "x_sqft = data_array[:,0]\n",
        "y_value = data_array[:,2]\n"
      ],
      "execution_count": 110,
      "outputs": []
    },
    {
      "cell_type": "markdown",
      "metadata": {
        "colab_type": "text",
        "id": "bubHPtJ5r9G-"
      },
      "source": [
        "Here we'll build off of the tutorial exercise, first finding the best linear fit for floor area (sqft) vs valued price (USD). Recall that setting the derivative = 0 and solving for 𝑏 & 𝑚 produces formula for the best fit trend:\n",
        "$$ m = \\frac{\\sum^n_{i=1} (x_i-x_{mean})(y_i-y_{mean})}{\\sum^n_{i=1} (x_i-x_{mean})^2} $$\n",
        "$$ b = y_{mean}-m*x_{mean} $$"
      ]
    },
    {
      "cell_type": "code",
      "metadata": {
        "colab_type": "code",
        "id": "HaPeEPN8r9HA",
        "colab": {}
      },
      "source": [
        "def find_best_fit(xx,yy):\n",
        "    '''\n",
        "      This function finds the best linear fit for yy vs xx\n",
        "    '''\n",
        "    m = (xx.dot(yy)-yy.mean()*xx.sum())/(xx.dot(xx)-xx.mean()*xx.sum())\n",
        "    #m = sum(list(xx[i]*yy[i]-np.mean(xx)*yy[i]-np.mean(xx)*xx[i]+np.mean(xx)*np.mean(yy) for i in range(len(xx))))/sum(list(xx[k]**2-2*np.mean(xx)*xx[k]+np.mean(xx)**2 for k in range(len(xx))))\n",
        "    #m = np.sum(np.array(list((xx[i]-np.mean(xx) for i in range(len(xx)))))*np.array(list((k-np.mean(yy) for k in range(len(yy))))))/np.sum(np.array(list(xx[i]-np.mean(xx)for i in range(len(xx))))**2)\n",
        "    b = np.mean(yy)-m*np.mean(xx)\n",
        "    return(m, b)"
      ],
      "execution_count": 55,
      "outputs": []
    },
    {
      "cell_type": "code",
      "metadata": {
        "colab_type": "code",
        "id": "mfZ7t4F9r9HH",
        "colab": {
          "base_uri": "https://localhost:8080/",
          "height": 35
        },
        "outputId": "40731fed-3a82-49e0-a26f-0b73101afe15"
      },
      "source": [
        "# Use your function to show the best fit values for our data\n",
        "(mm,bb) = find_best_fit(x_sqft, y_value)\n",
        "fit_str = 'y = {aa:.1f}x + {bb:.1f}'\n",
        "print(fit_str.format(aa=mm,bb=bb))"
      ],
      "execution_count": 56,
      "outputs": [
        {
          "output_type": "stream",
          "text": [
            "y = 134.5x + 71270.5\n"
          ],
          "name": "stdout"
        }
      ]
    },
    {
      "cell_type": "markdown",
      "metadata": {
        "colab_type": "text",
        "id": "jVYEfrpsr9HN"
      },
      "source": [
        "Now we have the best fit trend line that minimizes total error for our data, let's try plotting it and see what it looks like. Since its just an equation, we need to *sample* the curve in order to plot it. To do this, we'll find the difference between the largest and smallest floor area, and divide it into 100 sample points."
      ]
    },
    {
      "cell_type": "code",
      "metadata": {
        "colab_type": "code",
        "id": "dZARuzL7r9HO",
        "colab": {
          "base_uri": "https://localhost:8080/",
          "height": 283
        },
        "outputId": "1f0adef7-2c16-45e2-84f9-303b3567e57a"
      },
      "source": [
        "# Plot the data\n",
        "plt.scatter(x_sqft, y_value)\n",
        "# Sample the range from minimum to maximum sqft to get 100 points\n",
        "x_fit = np.linspace(min(x_sqft), max(x_sqft), num=100)\n",
        "# Apply the best fit equation to each sample point and plot the result\n",
        "plt.plot(x_fit, mm*x_fit+bb)"
      ],
      "execution_count": 67,
      "outputs": [
        {
          "output_type": "execute_result",
          "data": {
            "text/plain": [
              "[<matplotlib.lines.Line2D at 0x7f3b7e12c7b8>]"
            ]
          },
          "metadata": {
            "tags": []
          },
          "execution_count": 67
        },
        {
          "output_type": "display_data",
          "data": {
            "image/png": "[encoded data removed]",
            "text/plain": [
              "<Figure size 432x288 with 1 Axes>"
            ]
          },
          "metadata": {
            "tags": [],
            "needs_background": "light"
          }
        }
      ]
    },
    {
      "cell_type": "markdown",
      "metadata": {
        "colab_type": "text",
        "id": "ywlWE2xtr9HU"
      },
      "source": [
        "1: Given these parameters, how much should a house with 1600 sqft cost?\n",
        "\n",
        "(YOUR ANSWER HERE)"
      ]
    },
    {
      "cell_type": "code",
      "metadata": {
        "id": "Mk59VV7U67Tj",
        "colab_type": "code",
        "colab": {}
      },
      "source": [
        "predicted_price = mm*1600+bb"
      ],
      "execution_count": 82,
      "outputs": []
    },
    {
      "cell_type": "markdown",
      "metadata": {
        "colab_type": "text",
        "id": "J4rZ9L_Rr9HV"
      },
      "source": [
        "2: From the dataset, how much did a house with 1600 sqft actually cost?\n",
        "\n",
        "(YOUR ANSWER HERE)"
      ]
    },
    {
      "cell_type": "code",
      "metadata": {
        "id": "lF8Na9Yz8Q71",
        "colab_type": "code",
        "colab": {}
      },
      "source": [
        "actual_price = data_array[np.where(data_array == 1600)[0],2]"
      ],
      "execution_count": 90,
      "outputs": []
    },
    {
      "cell_type": "markdown",
      "metadata": {
        "colab_type": "text",
        "id": "KTZMjw7rr9HW"
      },
      "source": [
        "3: Assuming the current 1600 sqft house would sell for as much as the historical one, how much money would we have lost? What percentage of the total price is this?\n",
        "\n",
        "(YOUR ANSWER HERE)"
      ]
    },
    {
      "cell_type": "code",
      "metadata": {
        "id": "DY4vvTFY9d1z",
        "colab_type": "code",
        "colab": {
          "base_uri": "https://localhost:8080/",
          "height": 35
        },
        "outputId": "10ac56c8-cead-404a-d490-4f9c2c8c9a68"
      },
      "source": [
        "a = actual_price - predicted_price\n",
        "print (str(a), str(a/actual_price*100)+\"%\")\n"
      ],
      "execution_count": 93,
      "outputs": [
        {
          "output_type": "stream",
          "text": [
            "[43389.04719888] [13.15218163]%\n"
          ],
          "name": "stdout"
        }
      ]
    },
    {
      "cell_type": "markdown",
      "metadata": {
        "colab_type": "text",
        "id": "UN9zGe6Mr9HY"
      },
      "source": [
        "Now compare the values for 𝑚 and 𝑏 that sklearn generated in the tutorial notebook with the values that you found just now with your function. Hopefully they match."
      ]
    },
    {
      "cell_type": "code",
      "metadata": {
        "colab_type": "code",
        "id": "CDw75BJrr9HZ",
        "colab": {
          "base_uri": "https://localhost:8080/",
          "height": 54
        },
        "outputId": "a48ecf17-39bf-429d-90b6-e7f6f367e836"
      },
      "source": [
        "print(\"Sklearn:\",134.52528772, 71270.492448729)\n",
        "print(\"My function:\",mm,bb)"
      ],
      "execution_count": 57,
      "outputs": [
        {
          "output_type": "stream",
          "text": [
            "Sklearn: 134.52528772 71270.492448729\n",
            "My function: 134.52528772024127 71270.49244872923\n"
          ],
          "name": "stdout"
        }
      ]
    },
    {
      "cell_type": "markdown",
      "metadata": {
        "colab_type": "text",
        "id": "L5R8SjF9r9Hf"
      },
      "source": [
        "---\n",
        "Remember how despite adding an entire new variable, the $R^2$ value barely increased? Let's investigate this further by finding the correlation ($R^2$) value for a regression of square footage vs. number of bedrooms."
      ]
    },
    {
      "cell_type": "code",
      "metadata": {
        "colab_type": "code",
        "id": "gMPm_HXgr9Hg",
        "colab": {
          "base_uri": "https://localhost:8080/",
          "height": 35
        },
        "outputId": "38da1ff9-36cb-4199-8fea-0942d2a9c0b6"
      },
      "source": [
        "import sklearn.linear_model as lm\n",
        "\n",
        "\n",
        "\n",
        "x_rooms = data_array [:,1]\n",
        "x_sqft = x_sqft.reshape(-1,1)\n",
        "\n",
        "room_sqft = lm.LinearRegression().fit(x_sqft, x_rooms)\n",
        "print(room_sqft.score(x_sqft, x_rooms))\n"
      ],
      "execution_count": 99,
      "outputs": [
        {
          "output_type": "stream",
          "text": [
            "0.3135632699338187\n"
          ],
          "name": "stdout"
        }
      ]
    },
    {
      "cell_type": "markdown",
      "metadata": {
        "colab_type": "text",
        "id": "7QT8aPEQr9Hl"
      },
      "source": [
        "Do 2 variables have to be verry correlated to reduce their effectiveness together?\n",
        "\n",
        "no"
      ]
    },
    {
      "cell_type": "markdown",
      "metadata": {
        "colab_type": "text",
        "id": "HY_jT1uksAYu"
      },
      "source": [
        "## Logistic\n",
        "\n",
        "We are going to predict wheter or not someone has breast cancer using Logistical Regression! We are going to use sklearn's breast cancer dataset! It is up to you to decide what features to get the best results!"
      ]
    },
    {
      "cell_type": "code",
      "metadata": {
        "colab_type": "code",
        "id": "Pg6kfm6VAdhN",
        "colab": {
          "base_uri": "https://localhost:8080/",
          "height": 166
        },
        "outputId": "25497f19-e989-4035-9921-70fc3c4f617d"
      },
      "source": [
        "from sklearn.datasets import load_breast_cancer #datasets\n",
        "from sklearn.model_selection import train_test_split\n",
        "from sklearn.linear_model import LogisticRegression\n",
        "\n",
        "data = load_breast_cancer()\n",
        "df = pd.DataFrame(data.data,columns=data.feature_names)\n",
        "df['target'] = pd.Series(data.target)\n",
        "\n",
        "X_cols = ['worst concave points', 'worst radius']\n",
        "Y_cols = ['target']\n",
        "\n",
        "## YOUR CODE HERE\n",
        "#df.describe()\n",
        "#df.corr()\n",
        "\n",
        "test_size = 0.2\n",
        "X_train, X_val, y_train, y_val = train_test_split(df[X_cols], df[Y_cols], test_size=test_size, random_state=1)\n",
        "logreg = LogisticRegression()\n",
        "logreg.fit(X_train, y_train)"
      ],
      "execution_count": 128,
      "outputs": [
        {
          "output_type": "stream",
          "text": [
            "/usr/local/lib/python3.6/dist-packages/sklearn/utils/validation.py:760: DataConversionWarning: A column-vector y was passed when a 1d array was expected. Please change the shape of y to (n_samples, ), for example using ravel().\n",
            "  y = column_or_1d(y, warn=True)\n"
          ],
          "name": "stderr"
        },
        {
          "output_type": "execute_result",
          "data": {
            "text/plain": [
              "LogisticRegression(C=1.0, class_weight=None, dual=False, fit_intercept=True,\n",
              "                   intercept_scaling=1, l1_ratio=None, max_iter=100,\n",
              "                   multi_class='auto', n_jobs=None, penalty='l2',\n",
              "                   random_state=None, solver='lbfgs', tol=0.0001, verbose=0,\n",
              "                   warm_start=False)"
            ]
          },
          "metadata": {
            "tags": []
          },
          "execution_count": 128
        }
      ]
    },
    {
      "cell_type": "markdown",
      "metadata": {
        "colab_type": "text",
        "id": "kUZXPX46CUS9"
      },
      "source": [
        "Test your logistical regression! You must get an accuracy of > 80%"
      ]
    },
    {
      "cell_type": "code",
      "metadata": {
        "colab_type": "code",
        "id": "AnPoDu-CCTsE",
        "colab": {
          "base_uri": "https://localhost:8080/",
          "height": 54
        },
        "outputId": "dd3d9699-80b5-40aa-d387-53d13d98015d"
      },
      "source": [
        "from sklearn.metrics import accuracy_score\n",
        "\n",
        "y_train_pred=logreg.predict(X_train)\n",
        "print(\"Training Accuracy is \", accuracy_score(y_train, y_train_pred)*100)\n",
        "y_val_pred=logreg.predict(X_val)\n",
        "print(\"Validation Accuracy is \", accuracy_score(y_val,y_val_pred)*100)"
      ],
      "execution_count": 131,
      "outputs": [
        {
          "output_type": "stream",
          "text": [
            "Training Accuracy is  91.86813186813187\n",
            "Validation Accuracy is  91.22807017543859\n"
          ],
          "name": "stdout"
        }
      ]
    }
  ]
}